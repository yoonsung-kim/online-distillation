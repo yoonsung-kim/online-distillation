{
 "cells": [
  {
   "cell_type": "code",
   "execution_count": 1,
   "metadata": {
    "collapsed": true
   },
   "outputs": [],
   "source": [
    "import torchvision.models\n",
    "\n",
    "import utils\n",
    "from utils import models\n",
    "from utils import losses\n",
    "\n",
    "import torch\n",
    "from torch import nn, optim\n",
    "from torch.utils.data import DataLoader\n",
    "\n",
    "from torchvision import datasets, transforms"
   ]
  },
  {
   "cell_type": "code",
   "execution_count": 2,
   "outputs": [],
   "source": [
    "# configurations\n",
    "batch_size = 32\n",
    "input_channels = 1\n",
    "input_width = 28\n",
    "input_height = input_width\n",
    "\n",
    "lr = 0.01\n",
    "device = 'cuda' if torch.cuda.is_available() else 'cpu'"
   ],
   "metadata": {
    "collapsed": false,
    "pycharm": {
     "name": "#%%\n"
    }
   }
  },
  {
   "cell_type": "code",
   "execution_count": 3,
   "outputs": [],
   "source": [
    "data_root = '../data/mnist'\n",
    "\n",
    "data_transforms = transforms.Compose([\n",
    "    transforms.Resize((input_width, input_height)),\n",
    "    transforms.ToTensor(),\n",
    "    transforms.Normalize(mean=0.5,\n",
    "                         std=0.5)\n",
    "])\n",
    "\n",
    "train_data = datasets.MNIST(root=data_root,\n",
    "                            train=True,\n",
    "                            transform=data_transforms,\n",
    "                            download=True)\n",
    "\n",
    "train_data_loader = DataLoader(train_data,\n",
    "                               batch_size=batch_size,\n",
    "                               shuffle=False)\n",
    "\n",
    "valid_data = datasets.MNIST(root=data_root,\n",
    "                            train=False,\n",
    "                            transform=data_transforms,\n",
    "                            download=True)\n",
    "\n",
    "valid_data_loader = DataLoader(valid_data,\n",
    "                               batch_size=1,\n",
    "                               shuffle=False)"
   ],
   "metadata": {
    "collapsed": false,
    "pycharm": {
     "name": "#%%\n"
    }
   }
  },
  {
   "cell_type": "code",
   "execution_count": 4,
   "outputs": [],
   "source": [
    "# Models\n",
    "class ModelMNIST(nn.Module):\n",
    "    def __init__(self):\n",
    "        super(ModelMNIST, self).__init__()\n",
    "        self.count = 1\n",
    "\n",
    "        self.flatten = nn.Flatten()\n",
    "\n",
    "        self.fc_0 = nn.Linear(784, 500)\n",
    "\n",
    "        self.fc_1 = nn.Linear(500, 10)\n",
    "\n",
    "        self.softmax = nn.Softmax(dim=1)\n",
    "\n",
    "    def forward(self, x):\n",
    "\n",
    "        output = self.flatten(x)\n",
    "        output = self.fc_0(output)\n",
    "        output = self.fc_1(output)\n",
    "        output = self.softmax(output)\n",
    "\n",
    "        return output"
   ],
   "metadata": {
    "collapsed": false,
    "pycharm": {
     "name": "#%%\n"
    }
   }
  },
  {
   "cell_type": "code",
   "execution_count": 5,
   "outputs": [],
   "source": [
    "# training configuration\n",
    "model = ModelMNIST().to(device)\n",
    "optimizer = optim.SGD(model.parameters(), lr=lr)\n",
    "loss_function = nn.CrossEntropyLoss()"
   ],
   "metadata": {
    "collapsed": false,
    "pycharm": {
     "name": "#%%\n"
    }
   }
  },
  {
   "cell_type": "code",
   "execution_count": 9,
   "outputs": [
    {
     "name": "stdout",
     "output_type": "stream",
     "text": [
      "device cuda\n",
      "model count: 1\n",
      "epoch: 0\n",
      "avg loss among models: 1.6952818632125854\n",
      "max valid accuracy from model #0: 76.03\n",
      "train loss: 1.7137315360387166, valid loss: 1.707942811703682\n"
     ]
    }
   ],
   "source": [
    "train_config = {\n",
    "    'device': device,\n",
    "    'model': model,\n",
    "    'optimizer': optimizer,\n",
    "    'loss_function': loss_function,\n",
    "    'epochs': 1,\n",
    "    'output_file_path': 'test_mnist_model.json',\n",
    "    'use_nimble': False,\n",
    "    'input_shape': (batch_size, 1, input_height, input_width),\n",
    "    'train_data_loader': train_data_loader,\n",
    "    'valid_data_loader': valid_data_loader\n",
    "}\n",
    "\n",
    "utils.train(train_config, False)\n",
    "\n",
    "\n"
   ],
   "metadata": {
    "collapsed": false,
    "pycharm": {
     "name": "#%%\n"
    }
   }
  }
 ],
 "metadata": {
  "kernelspec": {
   "display_name": "Python 3",
   "language": "python",
   "name": "python3"
  },
  "language_info": {
   "codemirror_mode": {
    "name": "ipython",
    "version": 2
   },
   "file_extension": ".py",
   "mimetype": "text/x-python",
   "name": "python",
   "nbconvert_exporter": "python",
   "pygments_lexer": "ipython2",
   "version": "2.7.6"
  }
 },
 "nbformat": 4,
 "nbformat_minor": 0
}