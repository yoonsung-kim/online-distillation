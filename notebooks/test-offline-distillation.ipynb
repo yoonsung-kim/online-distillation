{
 "cells": [
  {
   "cell_type": "code",
   "execution_count": 1,
   "metadata": {
    "collapsed": true
   },
   "outputs": [],
   "source": [
    "import torchvision.models\n",
    "\n",
    "import utils\n",
    "from utils import models\n",
    "from utils import losses\n",
    "\n",
    "import torch\n",
    "from torch import optim\n",
    "from torch.utils.data import DataLoader\n",
    "\n",
    "from torchvision import datasets, transforms"
   ]
  },
  {
   "cell_type": "code",
   "execution_count": 2,
   "outputs": [],
   "source": [
    "# configurations\n",
    "batch_size = 16\n",
    "input_channels = 3\n",
    "input_width = 224\n",
    "input_height = input_width\n",
    "\n",
    "lr = 0.01\n",
    "device = 'cuda' if torch.cuda.is_available() else 'cpu'"
   ],
   "metadata": {
    "collapsed": false,
    "pycharm": {
     "name": "#%%\n"
    }
   }
  },
  {
   "cell_type": "code",
   "execution_count": 3,
   "outputs": [
    {
     "name": "stdout",
     "output_type": "stream",
     "text": [
      "Files already downloaded and verified\n"
     ]
    }
   ],
   "source": [
    "data_root = '../data/cifar-10'\n",
    "\n",
    "data_transforms = transforms.Compose([\n",
    "    transforms.Resize((input_width, input_height)),\n",
    "    transforms.ToTensor(),\n",
    "    transforms.Normalize(mean=(0.4914, 0.4822, 0.4465),\n",
    "                         std=(0.2023, 0.1994, 0.2010))\n",
    "])\n",
    "\n",
    "train_data = datasets.CIFAR10(root=data_root,\n",
    "                              train=True,\n",
    "                              transform=data_transforms,\n",
    "                              download=True)\n",
    "train_data_loader = DataLoader(train_data,\n",
    "                               batch_size=batch_size,\n",
    "                               shuffle=False)"
   ],
   "metadata": {
    "collapsed": false,
    "pycharm": {
     "name": "#%%\n"
    }
   }
  },
  {
   "cell_type": "code",
   "execution_count": 4,
   "outputs": [],
   "source": [
    "import torch.nn as nn\n",
    "\n",
    "class OfflineKD(nn.Module):\n",
    "    def __init__(self, teacher, student):\n",
    "        super(OfflineKD, self).__init__()\n",
    "\n",
    "        self.count = 2\n",
    "\n",
    "        self.teacher = teacher\n",
    "\n",
    "        # freeze teacher module\n",
    "        for child in self.teacher.children():\n",
    "            for param in child.parameters():\n",
    "                param.requires_grad = False\n",
    "\n",
    "        self.student = student\n",
    "\n",
    "    def forward(self, x):\n",
    "        teacher_logits = self.teacher(x)\n",
    "        student_logits = self.student(x)\n",
    "\n",
    "        #soft_labels = self.teacher_softmax_t(teacher_output / self.temperature)\n",
    "        #soft_predictions = self.student_softmax_t(student_output / self.temperature)\n",
    "        #hard_predictions = self.student_softmax(student_output)\n",
    "\n",
    "        outputs = [teacher_logits,\n",
    "                   student_logits]\n",
    "\n",
    "        return torch.stack(outputs, dim=0)\n",
    "\n",
    "class CrossEntropyLossWithLogits(torch.nn.Module):\n",
    "    def __init__(self):\n",
    "        super(CrossEntropyLossWithLogits, self).__init__()\n",
    "\n",
    "    def forward(self, outputs, target):\n",
    "        loss = torch.mean(-1.0 * torch.sum(target * torch.log(outputs), dim=1))\n",
    "\n",
    "        return loss\n",
    "\n",
    "class OfflineKDLoss(torch.nn.Module):\n",
    "    def __init__(self, temperature, distillation_loss_ratio=0.5):\n",
    "        super(OfflineKDLoss, self).__init__()\n",
    "\n",
    "        self.temperature = temperature\n",
    "        self.distillation_loss_ratio = distillation_loss_ratio\n",
    "\n",
    "        self.teacher_softmax_t = nn.Softmax(dim=1)\n",
    "        self.student_softmax_t = nn.Softmax(dim=1)\n",
    "        self.student_softmax = nn.Softmax(dim=1)\n",
    "\n",
    "    def forward(self, outputs, target):\n",
    "        cee = torch.nn.CrossEntropyLoss()\n",
    "        dist_cee = CrossEntropyLossWithLogits()\n",
    "\n",
    "        teacher_logits = outputs[0]\n",
    "        student_logits = outputs[1]\n",
    "\n",
    "        cnt_outputs = outputs.shape[0]\n",
    "\n",
    "        if cnt_outputs != 2:\n",
    "            raise ValueError(f'offline distillation must have 2 logits')\n",
    "\n",
    "        soft_labels = self.teacher_softmax_t(teacher_logits / self.temperature)\n",
    "        soft_predictions = self.student_softmax_t(student_logits / self.temperature)\n",
    "\n",
    "        distillation_loss = dist_cee(soft_predictions, soft_labels)\n",
    "        student_loss = cee(student_logits, target)\n",
    "\n",
    "        loss = self.distillation_loss_ratio * distillation_loss + \\\n",
    "               (1.0 - self.distillation_loss_ratio) * student_loss\n",
    "\n",
    "        return loss"
   ],
   "metadata": {
    "collapsed": false,
    "pycharm": {
     "name": "#%%\n"
    }
   }
  },
  {
   "cell_type": "code",
   "execution_count": 5,
   "outputs": [
    {
     "name": "stdout",
     "output_type": "stream",
     "text": [
      "device cuda\n",
      "model count: 2\n",
      "test one iteration...\n",
      "stop training\n"
     ]
    }
   ],
   "source": [
    "# training configuration\n",
    "def test_run():\n",
    "    model = OfflineKD(teacher=torchvision.models.resnet152(pretrained=True),\n",
    "                      student=torchvision.models.mobilenet_v2(pretrained=False)).to(device)\n",
    "\n",
    "    optimizer = optim.SGD(model.parameters(), lr=lr)\n",
    "    loss_function = OfflineKDLoss(temperature=10, distillation_loss_ratio=0.5)\n",
    "\n",
    "    train_config = {\n",
    "        'device': device,\n",
    "        'model': model,\n",
    "        'optimizer': optimizer,\n",
    "        'loss_function': loss_function,\n",
    "        'epochs': 100,\n",
    "        'output_file_path': 'test_iter_offline_KD_without_nimble.json',\n",
    "        'use_nimble': False,\n",
    "        'use_multi_stream': False,\n",
    "        'input_shape': (batch_size, 3, input_height, input_width),\n",
    "        'train_data_loader': train_data_loader,\n",
    "    }\n",
    "\n",
    "    utils.train(train_config, test_one_iter=True)\n",
    "\n",
    "test_run()"
   ],
   "metadata": {
    "collapsed": false,
    "pycharm": {
     "name": "#%%\n"
    }
   }
  },
  {
   "cell_type": "code",
   "execution_count": 5,
   "outputs": [],
   "source": [],
   "metadata": {
    "collapsed": false,
    "pycharm": {
     "name": "#%%\n"
    }
   }
  }
 ],
 "metadata": {
  "kernelspec": {
   "display_name": "Python 3",
   "language": "python",
   "name": "python3"
  },
  "language_info": {
   "codemirror_mode": {
    "name": "ipython",
    "version": 2
   },
   "file_extension": ".py",
   "mimetype": "text/x-python",
   "name": "python",
   "nbconvert_exporter": "python",
   "pygments_lexer": "ipython2",
   "version": "2.7.6"
  }
 },
 "nbformat": 4,
 "nbformat_minor": 0
}