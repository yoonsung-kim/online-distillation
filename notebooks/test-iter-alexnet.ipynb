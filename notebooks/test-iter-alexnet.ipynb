{
 "cells": [
  {
   "cell_type": "code",
   "execution_count": 1,
   "metadata": {
    "collapsed": true
   },
   "outputs": [],
   "source": [
    "import torchvision.models\n",
    "\n",
    "import utils\n",
    "from utils import models\n",
    "from utils import losses\n",
    "\n",
    "import torch\n",
    "from torch import optim\n",
    "from torch.utils.data import DataLoader\n",
    "\n",
    "from torchvision import datasets, transforms\n",
    "from utils.torchsummary import summary"
   ]
  },
  {
   "cell_type": "code",
   "execution_count": 2,
   "outputs": [],
   "source": [
    "# configurations\n",
    "batch_size = 16\n",
    "input_channels = 3\n",
    "input_width = 224\n",
    "input_height = input_width\n",
    "\n",
    "lr = 0.01\n",
    "device = 'cuda' if torch.cuda.is_available() else 'cpu'"
   ],
   "metadata": {
    "collapsed": false,
    "pycharm": {
     "name": "#%%\n"
    }
   }
  },
  {
   "cell_type": "code",
   "execution_count": 3,
   "outputs": [
    {
     "name": "stdout",
     "output_type": "stream",
     "text": [
      "Files already downloaded and verified\n"
     ]
    }
   ],
   "source": [
    "data_root = '../data/cifar-10'\n",
    "\n",
    "data_transforms = transforms.Compose([\n",
    "    transforms.Resize((input_width, input_height)),\n",
    "    transforms.ToTensor(),\n",
    "    transforms.Normalize(mean=(0.4914, 0.4822, 0.4465),\n",
    "                         std=(0.2023, 0.1994, 0.2010))\n",
    "])\n",
    "\n",
    "train_data = datasets.CIFAR10(root=data_root,\n",
    "                              train=True,\n",
    "                              transform=data_transforms,\n",
    "                              download=True)\n",
    "train_data_loader = DataLoader(train_data,\n",
    "                               batch_size=batch_size,\n",
    "                               shuffle=False)"
   ],
   "metadata": {
    "collapsed": false,
    "pycharm": {
     "name": "#%%\n"
    }
   }
  },
  {
   "cell_type": "code",
   "execution_count": 4,
   "outputs": [],
   "source": [
    "#model = torchvision.models.resnet152().to('cuda')\n",
    "#_, dict = summary(model, input_size=(3, 224, 224), batch_size=32)\n",
    "#for key in dict.keys():\n",
    "#    print(f'{key:25s}: {dict[key][\"output_size_bytes\"] / 1000:10.3f} KB')"
   ],
   "metadata": {
    "collapsed": false,
    "pycharm": {
     "name": "#%%\n"
    }
   }
  },
  {
   "cell_type": "code",
   "execution_count": 5,
   "outputs": [
    {
     "name": "stdout",
     "output_type": "stream",
     "text": [
      "device cuda\n",
      "model count: 1\n",
      "test one iteration...\n"
     ]
    },
    {
     "name": "stderr",
     "output_type": "stream",
     "text": [
      "/home/yskim/miniconda3/envs/torch/lib/python3.8/site-packages/torch/nn/functional.py:718: UserWarning: Named tensors and all their associated APIs are an experimental feature and subject to change. Please do not use them for anything important until they are released as stable. (Triggered internally at  /opt/conda/conda-bld/pytorch_1623448278899/work/c10/core/TensorImpl.h:1156.)\n",
      "  return torch.max_pool2d(input, kernel_size, stride, padding, dilation, ceil_mode)\n"
     ]
    },
    {
     "name": "stdout",
     "output_type": "stream",
     "text": [
      "stop inference\n"
     ]
    }
   ],
   "source": [
    "# training configuration\n",
    "#model = models.DeepMutualLearning(peers=[torchvision.models.MobileNetV2(),\n",
    "#                                         torchvision.models.MobileNetV2()]).to(device)\n",
    "model = models.SingleResNet34().to(device)\n",
    "optimizer = optim.SGD(model.parameters(), lr=lr)\n",
    "#loss_function = losses.OnlineDistillationLoss()\n",
    "loss_function = torch.nn.CrossEntropyLoss()\n",
    "\n",
    "config = {\n",
    "    'device': device,\n",
    "    'model': model,\n",
    "    'loss_function': loss_function,\n",
    "    'output_file_path': 'test-iter-resnet34.json',\n",
    "    'output_trace_path': '3090-batch-16-renset34-trace.json',\n",
    "    'use_nimble': False,\n",
    "    'use_multi_stream': False,\n",
    "    'input_shape': (batch_size, 3, input_height, input_width),\n",
    "    #'test_data_loader': train_data_loader\n",
    "}\n",
    "\n",
    "utils.inference(config, True)"
   ],
   "metadata": {
    "collapsed": false,
    "pycharm": {
     "name": "#%%\n"
    }
   }
  },
  {
   "cell_type": "code",
   "execution_count": 5,
   "outputs": [],
   "source": [],
   "metadata": {
    "collapsed": false,
    "pycharm": {
     "name": "#%%\n"
    }
   }
  }
 ],
 "metadata": {
  "kernelspec": {
   "display_name": "Python 3",
   "language": "python",
   "name": "python3"
  },
  "language_info": {
   "codemirror_mode": {
    "name": "ipython",
    "version": 2
   },
   "file_extension": ".py",
   "mimetype": "text/x-python",
   "name": "python",
   "nbconvert_exporter": "python",
   "pygments_lexer": "ipython2",
   "version": "2.7.6"
  }
 },
 "nbformat": 4,
 "nbformat_minor": 0
}