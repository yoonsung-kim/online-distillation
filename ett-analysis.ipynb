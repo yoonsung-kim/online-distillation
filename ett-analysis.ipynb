{
 "cells": [
  {
   "cell_type": "code",
   "execution_count": 1,
   "id": "cca57b1e",
   "metadata": {},
   "outputs": [],
   "source": [
    "import matplotlib.pyplot as plt\n",
    "import numpy as np\n",
    "import json"
   ]
  },
  {
   "cell_type": "code",
   "execution_count": 2,
   "id": "a583b526",
   "metadata": {},
   "outputs": [],
   "source": [
    "def load_data(trace_path):\n",
    "    with open(trace_path) as json_file:\n",
    "        json_data = json.load(json_file)\n",
    "\n",
    "        return json_data\n",
    "\n",
    "        events = json_data['traceEvents']\n",
    "\n",
    "        cuda_events = []\n",
    "        wall_times = []\n",
    "        timestamps = []\n",
    "\n",
    "        for event in events:\n",
    "            if 'stream' in str(event['tid']) and \\\n",
    "                    'name' in event.keys() and \\\n",
    "                    'dur' in event.keys() and \\\n",
    "                    event['cat'] == 'Kernel':\n",
    "                cuda_events.append(event)\n",
    "                # print(f\"{event['ts']}: {event['dur']}\")\n",
    "\n",
    "                wall_times.append(event['dur'])\n",
    "                timestamps.append(event['ts'])\n",
    "\n",
    "        kernel_names = []\n",
    "        kernel_sum_dur = {}\n",
    "        kernel_count = {}\n",
    "        for event in cuda_events:\n",
    "            kernel_names.append(event['name'])\n",
    "            kernel_sum_dur[event['name']] = 0\n",
    "            kernel_count[event['name']] = 0\n",
    "\n",
    "        kernel_names = np.unique(kernel_names)\n",
    "\n",
    "        for i in range(len(kernel_names)):\n",
    "            name = kernel_names[i]\n",
    "            # print(f'{i}: {kernel_names[i]}')\n",
    "\n",
    "        for event in cuda_events:\n",
    "            kernel_sum_dur[event['name']] += event[\"dur\"]\n",
    "            kernel_count[event['name']] += 1\n",
    "\n",
    "        for event in cuda_events:\n",
    "            kernel_sum_dur[event['name']] /= kernel_count[event['name']]\n",
    "\n",
    "\n",
    "        return {\n",
    "            \"wall_times\": wall_times,\n",
    "            \"timestamps\": timestamps,\n",
    "            \"kernel_names\": kernel_names,\n",
    "            \"kernel_count\": kernel_count,\n",
    "            \"kernel_info\": kernel_sum_dur\n",
    "        }"
   ]
  },
  {
   "cell_type": "code",
   "execution_count": 3,
   "id": "20ea9594",
   "metadata": {},
   "outputs": [],
   "source": [
    "def draw_fixed_model(info):\n",
    "    profiled_infos = []\n",
    "    model = info[\"model\"]\n",
    "\n",
    "    for gpu in info[\"gpus\"]:\n",
    "        profiled_infos.append({\n",
    "            \"data\": load_data(f\"{gpu}-{model}-batch-test.json\"),\n",
    "            \"gpu\": gpu,\n",
    "        })\n",
    "\n",
    "    datas = []\n",
    "\n",
    "    for info in profiled_infos:\n",
    "        datas.append(info)\n",
    "        \n",
    "    print(len(datas[0][\"data\"][\"elapsed_time\"][\"batch_sizes\"]))\n",
    "\n",
    "    plt.title(f\"{model}\")\n",
    "    ax = plt.subplot(111)\n",
    "    ax.set_xlabel(\"batch size\")\n",
    "    ax.set_ylabel(\"iteration time (ms)\")\n",
    "    for data in datas:\n",
    "        ax.plot(data[\"data\"][\"elapsed_time\"][\"batch_sizes\"],\n",
    "                data[\"data\"][\"elapsed_time\"][\"iteration_sum\"],\n",
    "                #data[\"data\"][\"elapsed_time\"][\"forward\"],\n",
    "                '-',\n",
    "                #color='steelblue',\n",
    "                label=data[\"gpu\"])\n",
    "\n",
    "    ax.legend()\n",
    "    plt.savefig(f\"{model}-batch-sizes-analysis.png\", dpi=400)"
   ]
  },
  {
   "cell_type": "code",
   "execution_count": 23,
   "id": "5beb3243",
   "metadata": {},
   "outputs": [
    {
     "name": "stdout",
     "output_type": "stream",
     "text": [
      "32\n"
     ]
    },
    {
     "name": "stderr",
     "output_type": "stream",
     "text": [
      "<ipython-input-22-73a3042e96d5>:19: MatplotlibDeprecationWarning: Adding an axes using the same arguments as a previous axes currently reuses the earlier instance.  In a future version, a new instance will always be created and returned.  Meanwhile, this warning can be suppressed, and the future behavior ensured, by passing a unique label to each axes instance.\n",
      "  ax = plt.subplot(111)\n"
     ]
    },
    {
     "data": {
      "image/png": "[encoded data removed]",
      "text/plain": [
       "<Figure size 432x288 with 1 Axes>"
      ]
     },
     "metadata": {
      "needs_background": "light"
     },
     "output_type": "display_data"
    }
   ],
   "source": [
    "info = {\n",
    "    \"gpus\": [\"iter-256-3090\"],\n",
    "    \"model\": \"vgg16\",\n",
    "}\n",
    "\n",
    "draw_fixed_model(info)"
   ]
  },
  {
   "cell_type": "code",
   "execution_count": 4,
   "id": "7783e67c",
   "metadata": {},
   "outputs": [],
   "source": [
    "def draw_preproc_ett(config):\n",
    "    with open(config[\"file-path\"], \"r\") as f:\n",
    "        data = json.load(f)\n",
    "        print(f\"[data keys]\")\n",
    "        for key in data.keys():\n",
    "            print(f\"{key}\")\n",
    "        print()\n",
    "            \n",
    "        print(f\"[result keys]\")\n",
    "        for result in data[\"results\"]:\n",
    "            for key in result.keys():\n",
    "                print(f\"{key}\")\n",
    "            break\n",
    "        print()\n",
    "            \n",
    "        batch_count = data[\"batch-count\"]\n",
    "        batch_sizes = data[\"batch-sizes\"]\n",
    "        num_workers = data[\"num_workers\"]\n",
    "        for i in range(len(batch_sizes)):\n",
    "            print(f\"batch size: {batch_sizes[i]}\")\n",
    "            result = data[\"results\"][i]\n",
    "            ett = result[\"ett\"]\n",
    "            dataset = data[\"dataset\"]\n",
    "            plt.title(f\"{dataset}\")\n",
    "            ax = plt.subplot(111)\n",
    "            ax.set_xlabel(\"mini-batches\")\n",
    "            ax.set_ylabel(\"preprocess time (ms)\")\n",
    "            length = int(len(ett) * 1.0)\n",
    "            ax.plot([i for i in range(length)],\n",
    "                    ett[:length],\n",
    "                    #sorted(ett)[:length],\n",
    "                    #data[\"data\"][\"elapsed_time\"][\"forward\"],\n",
    "                    '-',\n",
    "                    #color='steelblue',\n",
    "                    #label=data[\"gpu\"],\n",
    "                   )\n",
    "\n",
    "            ax.legend()\n",
    "            plt.savefig(f\"{dataset}-workers-{num_workers}-batch-{batch_sizes[i]}.png\", dpi=400)\n",
    "            plt.clf()"
   ]
  },
  {
   "cell_type": "code",
   "execution_count": 5,
   "id": "33e4080a",
   "metadata": {},
   "outputs": [
    {
     "name": "stderr",
     "output_type": "stream",
     "text": [
      "<ipython-input-4-0ced0fc73786>:25: MatplotlibDeprecationWarning: Adding an axes using the same arguments as a previous axes currently reuses the earlier instance.  In a future version, a new instance will always be created and returned.  Meanwhile, this warning can be suppressed, and the future behavior ensured, by passing a unique label to each axes instance.\n",
      "  ax = plt.subplot(111)\n",
      "No handles with labels found to put in legend.\n"
     ]
    },
    {
     "name": "stdout",
     "output_type": "stream",
     "text": [
      "[data keys]\n",
      "dataset\n",
      "num_workers\n",
      "image_size\n",
      "batch-count\n",
      "batch-sizes\n",
      "results\n",
      "\n",
      "[result keys]\n",
      "ett\n",
      "min\n",
      "max\n",
      "mean\n",
      "\n",
      "batch size: 32\n"
     ]
    },
    {
     "data": {
      "text/plain": [
       "<Figure size 432x288 with 0 Axes>"
      ]
     },
     "metadata": {},
     "output_type": "display_data"
    }
   ],
   "source": [
    "config = {\n",
    "    \"file-path\": \"output-workers-40.json\"\n",
    "}\n",
    "\n",
    "draw_preproc_ett(config)"
   ]
  },
  {
   "cell_type": "code",
   "execution_count": 7,
   "id": "cbf9569b",
   "metadata": {},
   "outputs": [],
   "source": [
    "def draw(file_path):\n",
    "    with open(file_path, \"r\") as f:\n",
    "        data = json.load(f)\n",
    "        print(f\"[data keys]\")\n",
    "        for key in data.keys():\n",
    "            print(f\"{key}\")\n",
    "        print()\n",
    "        # return\n",
    "            \n",
    "        #print(f\"[result keys]\")\n",
    "        #for result in data[\"results\"]:\n",
    "        #    for key in result.keys():\n",
    "        #        print(f\"{key}\")\n",
    "        #    break\n",
    "        #print()\n",
    "            \n",
    "        #batch_count = data[\"batch-count\"]\n",
    "        batch_sizes = data[\"batch-size\"]\n",
    "        #num_workers = data[\"num_workers\"]\n",
    "        iterations = data[\"iterations\"]\n",
    "        model_name = data[\"model-name\"]\n",
    "        ett = data[\"ett\"]\n",
    "        for key in ett.keys():\n",
    "            print(f\"{key}\")\n",
    "        print()\n",
    "        \n",
    "        ett = data[\"ett\"]\n",
    "        plt.title(f\"{model_name}\")\n",
    "        ax = plt.subplot(111)\n",
    "        ax.set_xlabel(\"mini-batches\")\n",
    "        ax.set_ylabel(\"elapsed time (ms)\")\n",
    "        \n",
    "        skip = int(iterations * 0.1)\n",
    "        x = [i for i in range(iterations - skip)]\n",
    "        \n",
    "        y_labels = [\"batch-load\", \"data-copy-to-gpu\", \"train\", \"total\"]\n",
    "        #y_labels = [\"batch-load\", \"train\"]\n",
    "        \n",
    "        for y_label in y_labels:\n",
    "            ax.plot(x,\n",
    "                    ett[y_label][skip:],\n",
    "                    #sorted(ett)[:length],\n",
    "                    #data[\"data\"][\"elapsed_time\"][\"forward\"],\n",
    "                    '-',\n",
    "                    #color='steelblue',\n",
    "                    label=y_label,\n",
    "                   )\n",
    "\n",
    "        ax.legend()\n",
    "        plt.draw()\n",
    "            #plt.savefig(f\"{dataset}-workers-{num_workers}-batch-{batch_sizes[i]}.png\", dpi=400)\n",
    "            #plt.clf()"
   ]
  },
  {
   "cell_type": "code",
   "execution_count": 14,
   "id": "5f0e4eaa",
   "metadata": {},
   "outputs": [
    {
     "name": "stdout",
     "output_type": "stream",
     "text": [
      "[data keys]\n",
      "model-name\n",
      "iterations\n",
      "batch-size\n",
      "ett\n",
      "\n",
      "unit\n",
      "batch-load\n",
      "data-copy-to-gpu\n",
      "train\n",
      "total\n",
      "\n"
     ]
    },
    {
     "name": "stderr",
     "output_type": "stream",
     "text": [
      "<ipython-input-7-8376f113f1be>:29: MatplotlibDeprecationWarning: Adding an axes using the same arguments as a previous axes currently reuses the earlier instance.  In a future version, a new instance will always be created and returned.  Meanwhile, this warning can be suppressed, and the future behavior ensured, by passing a unique label to each axes instance.\n",
      "  ax = plt.subplot(111)\n"
     ]
    },
    {
     "data": {
      "image/png": "[encoded data removed]",
      "text/plain": [
       "<Figure size 432x288 with 1 Axes>"
      ]
     },
     "metadata": {
      "needs_background": "light"
     },
     "output_type": "display_data"
    }
   ],
   "source": [
    "draw(\"preproc-analysis-vgg16-batch-8.json\")"
   ]
  },
  {
   "cell_type": "code",
   "execution_count": null,
   "id": "88e576df",
   "metadata": {},
   "outputs": [],
   "source": []
  }
 ],
 "metadata": {
  "kernelspec": {
   "display_name": "Python 3",
   "language": "python",
   "name": "python3"
  },
  "language_info": {
   "codemirror_mode": {
    "name": "ipython",
    "version": 3
   },
   "file_extension": ".py",
   "mimetype": "text/x-python",
   "name": "python",
   "nbconvert_exporter": "python",
   "pygments_lexer": "ipython3",
   "version": "3.8.10"
  }
 },
 "nbformat": 4,
 "nbformat_minor": 5
}
